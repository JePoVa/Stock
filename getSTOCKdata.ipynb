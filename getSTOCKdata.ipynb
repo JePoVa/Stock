{
 "cells": [
  {
   "cell_type": "code",
   "execution_count": 1,
   "metadata": {},
   "outputs": [],
   "source": [
    "import os\n",
    "from datetime import date, datetime\n",
    "import pandas as pd\n",
    "import keyring\n",
    "import requests\n",
    "import io\n",
    "import time"
   ]
  },
  {
   "cell_type": "code",
   "execution_count": 2,
   "metadata": {},
   "outputs": [],
   "source": [
    "# get API key\n",
    "\n",
    "SERVICE_NAME = 'Alpha Vantage API'\n",
    "USER = 'xxxxxxxxxxx@gmail.com'\n",
    "password = keyring.get_password(SERVICE_NAME,USER)"
   ]
  },
  {
   "cell_type": "code",
   "execution_count": 3,
   "metadata": {},
   "outputs": [],
   "source": [
    "# Creating path\n",
    "\n",
    "routePath = './data/stock'\n",
    "today = date.today().strftime('%Y-%m-%d')\n",
    "fullOutputPath = routePath + '/' + today"
   ]
  },
  {
   "cell_type": "code",
   "execution_count": 4,
   "metadata": {},
   "outputs": [],
   "source": [
    "ROUTE_URL = 'https://www.alphavantage.co/query?'\n",
    "FUNCTION = 'TIME_SERIES_DAILY_ADJUSTED'\n",
    "symbol = ''\n",
    "OUTPUT_SIZE = 'full'\n",
    "DATA_TYPE = 'csv'"
   ]
  },
  {
   "cell_type": "code",
   "execution_count": 5,
   "metadata": {},
   "outputs": [],
   "source": [
    "HIGH_VOLATILITY_PATH = './data/HighVolatilityCompanies.csv'\n",
    "df_companies = pd.read_csv(HIGH_VOLATILITY_PATH,delimiter=',')\n",
    "list_companies = df_companies['value'].to_list()"
   ]
  },
  {
   "cell_type": "code",
   "execution_count": 6,
   "metadata": {},
   "outputs": [
    {
     "name": "stdout",
     "output_type": "stream",
     "text": [
      "Download done!\n"
     ]
    }
   ],
   "source": [
    "df_main = pd.DataFrame()\n",
    "\n",
    "\n",
    "for i, company in enumerate(list_companies):\n",
    "\n",
    "    fullUrl = f'{ROUTE_URL}function={FUNCTION}&symbol={company}&outputsize={OUTPUT_SIZE}&apikey={password}&datatype={DATA_TYPE}'\n",
    "\n",
    "    response = requests.get(fullUrl)\n",
    "    data = io.BytesIO(response.content)\n",
    "\n",
    "    df_temp = pd.read_csv(data)\n",
    "    df_temp['company'] = company\n",
    "    df_main = pd.concat([df_main, df_temp])\n",
    "    \n",
    "    time.sleep(15)\n",
    "\n",
    "df_main.to_csv(fullOutputPath + '.csv', index=False)\n",
    "print('Download done!')\n"
   ]
  }
 ],
 "metadata": {
  "kernelspec": {
   "display_name": "Python 3.10.5 64-bit",
   "language": "python",
   "name": "python3"
  },
  "language_info": {
   "codemirror_mode": {
    "name": "ipython",
    "version": 3
   },
   "file_extension": ".py",
   "mimetype": "text/x-python",
   "name": "python",
   "nbconvert_exporter": "python",
   "pygments_lexer": "ipython3",
   "version": "3.10.5"
  },
  "orig_nbformat": 4,
  "vscode": {
   "interpreter": {
    "hash": "aee8b7b246df8f9039afb4144a1f6fd8d2ca17a180786b69acc140d282b71a49"
   }
  }
 },
 "nbformat": 4,
 "nbformat_minor": 2
}
